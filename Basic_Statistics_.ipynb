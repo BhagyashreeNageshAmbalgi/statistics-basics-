{
  "nbformat": 4,
  "nbformat_minor": 0,
  "metadata": {
    "colab": {
      "provenance": []
    },
    "kernelspec": {
      "name": "python3",
      "display_name": "Python 3"
    },
    "language_info": {
      "name": "python"
    }
  },
  "cells": [
    {
      "cell_type": "markdown",
      "source": [
        "Q1)  What is statistics, and why is it important?\n",
        "\n",
        "Ans: Statistics is the study of the collection, analysis, interpretation, presentation, and organization of data. It involves using mathematical techniques to summarize and describe data, as well as to draw conclusions and make predictions about a population based on a sample of data.\n",
        "\n",
        "and it is important because\n",
        "1- informed decision making\n",
        "2- understanding patterns and trends\n",
        "3- evaluating evidence\n",
        "4- improving processes\n",
        "5- comunicating results\n",
        "\n",
        "Q2) What are the two main types of statistics?\n",
        "\n",
        "Ans : two main types of statistics are\n",
        "1- descriptive statistics\n",
        "2- inferential statistics\n",
        "\n",
        "Q3)  What are descriptive statistics?\n",
        "\n",
        "Ans: summarization of data without adding or subtracting anything at a specific instance or time.\n",
        "\n",
        "Q4)  What is inferential statistics?\n",
        "\n",
        "Ans: Inferential statistics is a branch of statistics that involves using sample data to make inferences or conclusions about a larger population.\n",
        "\n",
        "Q5)  What is sampling in statistics?\n",
        "\n",
        "Ans: Sampling is the process of selecting a subset of data from a larger population for the purpose of analysis. It involves choosing a representative group of individuals or items from the population to make inferences about the whole population.\n",
        "\n",
        "Q6)  What are the different types of sampling methods?\n",
        "\n",
        "Ans: Types of Sampling:\n",
        "\n",
        "Probability sampling: Probability sampling involves selecting a sample in such a way that every individual or item in the population has a known probability of being selected.\n",
        "\n",
        "Non-probability sampling: Non-probability sampling involves selecting a sample based on convenience, judgment, or other non-random criteria.\n",
        "\n",
        "Q7) What is the difference between random and non-random sampling?\n",
        "\n",
        "Ans: Random Sampling:\n",
        "\n",
        "-Every member of the population has an equal chance of being selected.\n",
        "-Reduces bias and increases representativeness.\n",
        "-Allows for generalizability of findings to the larger population.\n",
        "\n",
        "Non-Random Sampling:\n",
        "\n",
        "-Members of the population are selected based on convenience, judgment, or other non-random criteria.\n",
        "-May introduce bias and limit representativeness.\n",
        "-May not allow for generalizability of findings to the larger population.\n",
        "\n",
        "Q8)  Define and give examples of qualitative and quantitative data?\n",
        "\n",
        "Ans: Qualitative Data:\n",
        "\n",
        "Non-numerical data that describes qualities or characteristics.\n",
        "Examples:\n",
        "    1. Text data: Survey responses, interview transcripts, or social media posts.\n",
        "    2. Image data: Photographs, videos, or artwork.\n",
        "    3. Observational data: Field notes, observations, or ethnographic data\n",
        "\n",
        "    Quantitative Data:\n",
        "\n",
        "Numerical data that can be measured and analyzed statistically.\n",
        "Examples:\n",
        "    1. Age: Measured in years, months, or days.\n",
        "    2. Height: Measured in inches, feet, or meters.\n",
        "    3. Test scores: Measured on a numerical scale.\n",
        "\n",
        "Q9)  What are the different types of data in statistics?\n",
        "\n",
        "Ans: 1) Nominal data\n",
        "     2) ordinal data\n",
        "     3) Interval data\n",
        "     4) Ratio data\n",
        "     5) discret data\n",
        "     6) continuous data\n",
        "\n",
        "Q10)  Explain nominal, ordinal, interval, and ratio levels of measurement\n",
        "\n",
        "Ans: 1)nominal :Categorical data with no inherent order or ranking.\n",
        "Examples: gender, nationality, or eye color.\n",
        "2) ordinal : Categorical data with a natural order or ranking.\n",
        "Examples: education level (high school, college, graduate), job satisfaction (low, medium, high)\n",
        "3) interval: Numerical data with equal intervals between consecutive levels.\n",
        "Examples: temperature (Celsius or Fahrenheit), IQ scores.\n",
        "4) ratio :Numerical data with a true zero point and equal intervals.\n",
        "Examples: age, weight, height, or income.\n",
        "\n",
        "Q11)  What is the measure of central tendency?\n",
        "\n",
        "Ans: central tendency represents the center point of a data set\n",
        "\n",
        "Q12) Define mean , median and mode ?\n",
        "\n",
        "Ans: Mean:\n",
        "\n",
        "The average value of a dataset, calculated by summing all the values and dividing by the number of values.\n",
        "Sensitive to outliers and skewed data.\n",
        "\n",
        "Median:\n",
        "\n",
        "The middle value of a dataset when it is ordered from smallest to largest.\n",
        "More robust to outliers and skewed data than the mean.\n",
        "\n",
        "Mode:\n",
        "\n",
        "The most frequently occurring value in a dataset.\n",
        "A dataset may have one mode (unimodal), multiple modes (multimodal), or no mode at all.\n",
        "\n",
        "Q13) What is the significance of the measure of central tendency\n",
        "\n",
        "Ans: measure of central tendency is helpfull in exploratory data analysis and data preperation or future engineering\n",
        "\n",
        "Q14)  What is variance, and how is it calculated?\n",
        "\n",
        "Ans: Variance is a measure of the spread or dispersion of a dataset from its mean value. It calculates the average of the squared differences between each data point and the mean.\n",
        "\n",
        "Calculation:\n",
        "\n",
        "Calculate the mean of the dataset.\n",
        "Subtract the mean from each data point to find the deviation.\n",
        "Square each deviation.\n",
        "Calculate the average of the squared deviations.\n",
        "\n",
        "Formula:\n",
        "\n",
        "Variance (σ²) = Σ(xi - μ)² / N\n",
        "\n",
        "σ² = variance\n",
        "xi = individual data points\n",
        "μ = mean\n",
        "N = number of data points\n",
        "\n",
        "Q15) What is standard deviation, and why is it important?\n",
        "\n",
        "Ans: Standard Deviation:\n",
        "\n",
        "Standard deviation is a measure of the amount of variation or dispersion of a set of values. It represents how spread out the values are from the mean.\n",
        "\n",
        "mportance:\n",
        "\n",
        "-Understanding variability: Standard deviation helps to understand the amount of variation in a dataset.\n",
        "-Comparing datasets: Standard deviation can be used to compare the variability of different datasets.\n",
        "-Identifying outliers: Standard deviation can help identify data points that are significantly different from the mean.\n",
        "-Risk analysis: Standard deviation is used in finance and other fields to measure risk and volatility.\n",
        "\n",
        "Q16) Define and explain the term range in statistics?\n",
        "\n",
        "Ans: Difference between maximum and minimum value is called range and these are affected by outliers.\n",
        "\n",
        "Q17) What is the difference between variance and standard deviation?\n",
        "\n",
        "Ans: Variance vs. Standard Deviation:\n",
        "\n",
        "Variance:\n",
        "\n",
        "Measures the average of the squared differences between each data point and the mean.\n",
        "Expressed in squared units of the data.\n",
        "\n",
        "Standard Deviation:\n",
        "\n",
        "Measures the square root of the variance.\n",
        "Expressed in the same units as the data.\n",
        "\n",
        "Q18)  What is skewness in a dataset?\n",
        "\n",
        "Ans: Skewness is a measure of the asymmetry of the probability distribution of a dataset. It indicates whether the data is symmetric or skewed to one side.\n",
        "\n",
        "Q19)  What does it mean if a dataset is positively or negatively skewed\n",
        "\n",
        "Ans: positively skewed : if most of the data distribution lies on right side of the graph  and inclination at right side is called positively skewed\n",
        "\n",
        "Negatively skewed: if most of the data distribution lies on the left side of the graph and inclination at left side is called negatively skewed.\n",
        "\n",
        "Q20)  Define and explain kurtosis\n",
        "\n",
        "Ans: Kurtosis is a measure of the \"tailedness\" or \"peakedness\" of a probability distribution. It describes the shape of the distribution's tails in relation to the overall shape of the distribution.\n",
        "\n",
        "Q21)  What is the purpose of covariance\n",
        "\n",
        "Ans: it is used to find ouy the relationship between two variables\n",
        "\n",
        "Q22)  What does correlation measure in statistics\n",
        "\n",
        "Ans: correlation measures linear relationship\n",
        "\n",
        "Q23) What is the difference between covariance and correlation\n",
        "\n",
        "Ans:Covariance vs. Correlation:\n",
        "\n",
        "Covariance:\n",
        "\n",
        ">Measures how two variables change together.\n",
        ">Indicates the direction of the relationship (positive or negative).\n",
        ">Not standardized, making it difficult to compare across different datasets.\n",
        "\n",
        "Correlation:\n",
        "\n",
        ">Measures the strength and direction of the linear relationship between two variables.\n",
        ">Standardized measure, ranging from -1 (perfect negative correlation) to 1 (perfect positive correlation).\n",
        ">Allows for comparison across different datasets.\n",
        "\n",
        "Q24) What are some real-world applications of statistics?\n",
        "\n",
        "Ans: Real-World Applications of Statistics:\n",
        "\n",
        "1)Medicine: Statistical analysis is used to test the efficacy of new treatments, identify risk factors for diseases, and understand the spread of epidemics.\n",
        "\n",
        "2)Finance: Statistical models are used to analyze financial data, predict stock prices, and manage risk.\n",
        "\n",
        "3)Marketing: Statistical analysis is used to understand customer behavior, segment markets, and measure the effectiveness of advertising campaigns.\n",
        "\n",
        "4)Quality Control: Statistical methods are used to monitor and control the 5)quality of products, identify defects, and improve manufacturing processes.\n",
        "\n",
        "5)Social Sciences: Statistical analysis is used to understand social phenomena, test hypotheses, and inform policy decisions.\n",
        "\n",
        "\n",
        "#PRACTICAL QUESTIONS\n",
        "\n",
        "Q1)  How do you calculate the mean, median, and mode of a dataset"
      ],
      "metadata": {
        "id": "jx1URceOhM97"
      }
    },
    {
      "cell_type": "code",
      "source": [
        "age= [28 , 56 , 35 , 28 , 76 , 89]\n",
        "import numpy as np\n",
        "np.mean(age)"
      ],
      "metadata": {
        "colab": {
          "base_uri": "https://localhost:8080/"
        },
        "id": "U_GaBCcC8m1d",
        "outputId": "dd728349-eac3-47b2-c757-2740494ada84"
      },
      "execution_count": 1,
      "outputs": [
        {
          "output_type": "execute_result",
          "data": {
            "text/plain": [
              "np.float64(52.0)"
            ]
          },
          "metadata": {},
          "execution_count": 1
        }
      ]
    },
    {
      "cell_type": "code",
      "source": [],
      "metadata": {
        "id": "JqMdYysC9ZJD"
      },
      "execution_count": null,
      "outputs": []
    },
    {
      "cell_type": "code",
      "source": [
        "age= [28 , 56 , 35 , 28 , 76 , 89]\n",
        "import numpy as np\n",
        "np.median(age)"
      ],
      "metadata": {
        "colab": {
          "base_uri": "https://localhost:8080/"
        },
        "outputId": "a8690f48-74ff-48e8-c701-e5de8f811e6b",
        "id": "7ZqLUmRZ9gm3"
      },
      "execution_count": 3,
      "outputs": [
        {
          "output_type": "execute_result",
          "data": {
            "text/plain": [
              "np.float64(45.5)"
            ]
          },
          "metadata": {},
          "execution_count": 3
        }
      ]
    },
    {
      "cell_type": "code",
      "source": [],
      "metadata": {
        "id": "vQkNZJDy9ott"
      },
      "execution_count": null,
      "outputs": []
    },
    {
      "cell_type": "code",
      "source": [
        "age= [28 , 56 , 35 , 28 , 76 , 89]\n",
        "from scipy import stats\n",
        "stats.mode(age)\n"
      ],
      "metadata": {
        "colab": {
          "base_uri": "https://localhost:8080/"
        },
        "outputId": "04221573-3fb4-44d2-85d2-7f8d75ecae6f",
        "id": "6FxqGA5m9pKv"
      },
      "execution_count": 4,
      "outputs": [
        {
          "output_type": "execute_result",
          "data": {
            "text/plain": [
              "ModeResult(mode=np.int64(28), count=np.int64(2))"
            ]
          },
          "metadata": {},
          "execution_count": 4
        }
      ]
    },
    {
      "cell_type": "markdown",
      "source": [
        "Q2) Write a Python program to compute the variance and standard deviation of a dataset"
      ],
      "metadata": {
        "id": "APbsIhSd9z-J"
      }
    },
    {
      "cell_type": "code",
      "source": [
        "data = [2 , 3 , 4 , 5 , 8, 9 , 12 , 40 , 41 , 15]\n",
        "import numpy as np\n",
        "np.var(data)"
      ],
      "metadata": {
        "colab": {
          "base_uri": "https://localhost:8080/"
        },
        "id": "Gwb-23Ae95S6",
        "outputId": "d515ee95-1b13-4086-abbf-5dac80a6bddb"
      },
      "execution_count": 5,
      "outputs": [
        {
          "output_type": "execute_result",
          "data": {
            "text/plain": [
              "np.float64(191.69000000000003)"
            ]
          },
          "metadata": {},
          "execution_count": 5
        }
      ]
    },
    {
      "cell_type": "code",
      "source": [
        "data = [2 , 3 , 4 , 5 , 8, 9 , 12 , 40 , 41 , 15]\n",
        "import numpy as np\n",
        "np.std(data)"
      ],
      "metadata": {
        "colab": {
          "base_uri": "https://localhost:8080/"
        },
        "id": "eYxKQeSa-hiQ",
        "outputId": "dfd296a5-c67f-40ba-e0d2-5df8845adf00"
      },
      "execution_count": 6,
      "outputs": [
        {
          "output_type": "execute_result",
          "data": {
            "text/plain": [
              "np.float64(13.8452157801892)"
            ]
          },
          "metadata": {},
          "execution_count": 6
        }
      ]
    },
    {
      "cell_type": "markdown",
      "source": [
        "Q3)  Create a dataset and classify it into nominal, ordinal, interval, and ratio types"
      ],
      "metadata": {
        "id": "p8pjtdxi-q3v"
      }
    },
    {
      "cell_type": "markdown",
      "source": [
        "Let's create a dataset for a fictional company that collects information about its employees.\n",
        "\n",
        "| Employee ID | Name | Department | Job Satisfaction | Salary | Years of Experience |\n",
        "| --- | --- | --- | --- | --- | --- |\n",
        "| 1 | John | Sales | High | 50000 | 5 |\n",
        "| 2 | Jane | Marketing | Medium | 60000 | 3 |\n",
        "| 3 | Bob | IT | Low | 70000 | 10 |\n",
        "| 4 | Alice | HR | High | 55000 | 2 |\n",
        "| 5 | Mike | Finance | Medium | 65000 | 7 |\n",
        "\n",
        "Classification:\n",
        "\n",
        "Nominal Data:\n",
        "    - Department (Sales, Marketing, IT, HR, Finance)\n",
        "    - Name (John, Jane, Bob, Alice, Mike)\n",
        "Ordinal Data:\n",
        "    - Job Satisfaction (Low, Medium, High)\n",
        "Interval Data:\n",
        "    - None in this dataset (temperature or IQ scores would be examples of interval data)\n",
        "Ratio Data:\n",
        "    - Salary (50000, 60000, 70000, 55000, 65000)\n",
        "    - Years of Experience (5, 3, 10, 2, 7)\n"
      ],
      "metadata": {
        "id": "HBhpdKM7_i0r"
      }
    },
    {
      "cell_type": "markdown",
      "source": [
        " Q4) Implement sampling techniques like random sampling and stratified sampling"
      ],
      "metadata": {
        "id": "a54LObbh_uC0"
      }
    },
    {
      "cell_type": "markdown",
      "source": [
        "Dataset:\n",
        "\n",
        "We'll use the employee dataset created earlier.\n",
        "\n",
        "| Employee ID | Name | Department | Job Satisfaction | Salary | Years of Experience |\n",
        "| --- | --- | --- | --- | --- | --- |\n",
        "| 1 | John | Sales | High | 50000 | 5 |\n",
        "| 2 | Jane | Marketing | Medium | 60000 | 3 |\n",
        "| 3 | Bob | IT | Low | 70000 | 10 |\n",
        "| 4 | Alice | HR | High | 55000 | 2 |\n",
        "| 5 | Mike | Finance | Medium | 65000 | 7 |\n",
        "| 6 | Emma | Sales | Low | 52000 | 4 |\n",
        "| 7 | David | Marketing | High | 58000 | 6 |\n",
        "| 8 | Sophia | IT | Medium | 68000 | 8 |\n",
        "| 9 | Olivia | HR | Low | 53000 | 1 |\n",
        "| 10 | Ava | Finance | High | 62000 | 9 |"
      ],
      "metadata": {
        "id": "BLMCKwkhAEec"
      }
    },
    {
      "cell_type": "code",
      "source": [
        "import pandas as pd\n",
        "import numpy as np\n",
        "\n",
        "# Create a DataFrame\n",
        "data = {\n",
        "    'Employee ID': [1, 2, 3, 4, 5, 6, 7, 8, 9, 10],\n",
        "    'Name': ['John', 'Jane', 'Bob', 'Alice', 'Mike', 'Emma', 'David', 'Sophia', 'Olivia', 'Ava'],\n",
        "    'Department': ['Sales', 'Marketing', 'IT', 'HR', 'Finance', 'Sales', 'Marketing', 'IT', 'HR', 'Finance'],\n",
        "    'Job Satisfaction': ['High', 'Medium', 'Low', 'High', 'Medium', 'Low', 'High', 'Medium', 'Low', 'High'],\n",
        "    'Salary': [50000, 60000, 70000, 55000, 65000, 52000, 58000, 68000, 53000, 62000],\n",
        "    'Years of Experience': [5, 3, 10, 2, 7, 4, 6, 8, 1, 9]\n",
        "}\n",
        "df = pd.DataFrame(data)\n",
        "\n",
        "# Random sampling\n",
        "random_sample = df.sample(n=5)\n",
        "print(random_sample)"
      ],
      "metadata": {
        "colab": {
          "base_uri": "https://localhost:8080/"
        },
        "id": "TFIYqNuoAFuc",
        "outputId": "aab36add-361c-425d-c5ad-b803f637c92f"
      },
      "execution_count": 7,
      "outputs": [
        {
          "output_type": "stream",
          "name": "stdout",
          "text": [
            "   Employee ID    Name Department Job Satisfaction  Salary  \\\n",
            "9           10     Ava    Finance             High   62000   \n",
            "7            8  Sophia         IT           Medium   68000   \n",
            "5            6    Emma      Sales              Low   52000   \n",
            "3            4   Alice         HR             High   55000   \n",
            "0            1    John      Sales             High   50000   \n",
            "\n",
            "   Years of Experience  \n",
            "9                    9  \n",
            "7                    8  \n",
            "5                    4  \n",
            "3                    2  \n",
            "0                    5  \n"
          ]
        }
      ]
    },
    {
      "cell_type": "markdown",
      "source": [
        " Q5) Write a Python function to calculate the range of a dataset"
      ],
      "metadata": {
        "id": "hrd01-gKBS9u"
      }
    },
    {
      "cell_type": "code",
      "source": [
        "data = [2 , 3 , 4 , 5 , 8, 9 , 12 , 40 , 41 , 15]\n",
        "max(data)-min(data)"
      ],
      "metadata": {
        "colab": {
          "base_uri": "https://localhost:8080/"
        },
        "id": "5aRps1WGCRPj",
        "outputId": "026bd663-a0ee-49b7-b157-6728608c26d6"
      },
      "execution_count": 8,
      "outputs": [
        {
          "output_type": "execute_result",
          "data": {
            "text/plain": [
              "39"
            ]
          },
          "metadata": {},
          "execution_count": 8
        }
      ]
    },
    {
      "cell_type": "markdown",
      "source": [
        "Q6)  Create a dataset and plot its histogram to visualize skewness"
      ],
      "metadata": {
        "id": "UcugGEk5CdTi"
      }
    },
    {
      "cell_type": "code",
      "source": [
        "import numpy as np\n",
        "import matplotlib.pyplot as plt\n",
        "\n",
        "# Create a dataset\n",
        "np.random.seed(0)\n",
        "scores = np.random.exponential(scale=80, size=100) + 20\n",
        "\n",
        "# Plot a histogram\n",
        "plt.hist(scores, bins=10, edgecolor='black')\n",
        "plt.title('Histogram of Student Scores')\n",
        "plt.xlabel('Scores')\n",
        "plt.ylabel('Frequency')\n",
        "plt.show()"
      ],
      "metadata": {
        "colab": {
          "base_uri": "https://localhost:8080/",
          "height": 472
        },
        "id": "-rwbPYkWCi_c",
        "outputId": "1263c3c5-58c3-4949-bef4-282e3730836c"
      },
      "execution_count": 9,
      "outputs": [
        {
          "output_type": "display_data",
          "data": {
            "text/plain": [
              "<Figure size 640x480 with 1 Axes>"
            ],
            "image/png": "[encoded data removed]"
          },
          "metadata": {}
        }
      ]
    },
    {
      "cell_type": "markdown",
      "source": [
        "Q7)  Calculate skewness and kurtosis of a dataset using Python libraries"
      ],
      "metadata": {
        "id": "UqY-to59DW5N"
      }
    },
    {
      "cell_type": "code",
      "source": [
        "data = [2 , 3 , 5 , 7 , 11]\n",
        "from scipy.stats import skew\n",
        "skew(data)"
      ],
      "metadata": {
        "colab": {
          "base_uri": "https://localhost:8080/"
        },
        "id": "jr4sLjERDc1k",
        "outputId": "3757cf75-99a2-4dc8-cdfd-04de833e2e1f"
      },
      "execution_count": 10,
      "outputs": [
        {
          "output_type": "execute_result",
          "data": {
            "text/plain": [
              "np.float64(0.5844726562500003)"
            ]
          },
          "metadata": {},
          "execution_count": 10
        }
      ]
    },
    {
      "cell_type": "code",
      "source": [
        "data = [2 , 3 , 5 , 7 , 11]\n",
        "from scipy.stats import kurtosis\n",
        "kurtosis(data)"
      ],
      "metadata": {
        "colab": {
          "base_uri": "https://localhost:8080/"
        },
        "id": "7dWMAZ6REC6X",
        "outputId": "6451b7fc-e30b-48c6-e4cd-1f837bc5cc15"
      },
      "execution_count": 11,
      "outputs": [
        {
          "output_type": "execute_result",
          "data": {
            "text/plain": [
              "np.float64(-0.96307373046875)"
            ]
          },
          "metadata": {},
          "execution_count": 11
        }
      ]
    },
    {
      "cell_type": "markdown",
      "source": [
        "Q8)  Generate a dataset and demonstrate positive and negative skewness"
      ],
      "metadata": {
        "id": "T7m7Y_PlEPcD"
      }
    },
    {
      "cell_type": "code",
      "source": [
        "import numpy as np\n",
        "import matplotlib.pyplot as plt\n",
        "\n",
        "# Set the seed for reproducibility\n",
        "np.random.seed(0)\n",
        "\n",
        "# Positive skewness (right-skewed)\n",
        "positive_skew = np.random.exponential(scale=2, size=1000)\n",
        "\n",
        "# Negative skewness (left-skewed)\n",
        "negative_skew = -np.random.exponential(scale=2, size=1000) + 10\n",
        "\n",
        "# Plot histograms\n",
        "fig, ax = plt.subplots(1, 2, figsize=(12, 6))\n",
        "\n",
        "ax[0].hist(positive_skew, bins=20, edgecolor='black')\n",
        "ax[0].set_title('Positive Skewness')\n",
        "ax[0].set_xlabel('Value')\n",
        "ax[0].set_ylabel('Frequency')\n",
        "\n",
        "ax[1].hist(negative_skew, bins=20, edgecolor='black')\n",
        "ax[1].set_title('Negative Skewness')\n",
        "ax[1].set_xlabel('Value')\n",
        "ax[1].set_ylabel('Frequency')\n",
        "\n",
        "plt.tight_layout()\n",
        "plt.show()"
      ],
      "metadata": {
        "colab": {
          "base_uri": "https://localhost:8080/",
          "height": 607
        },
        "id": "NMbQh3fZEUNU",
        "outputId": "acd32ca1-8e1d-43da-ce8c-7fb424e8e0f7"
      },
      "execution_count": 12,
      "outputs": [
        {
          "output_type": "display_data",
          "data": {
            "text/plain": [
              "<Figure size 1200x600 with 2 Axes>"
            ],
            "image/png": "[encoded data removed]"
          },
          "metadata": {}
        }
      ]
    },
    {
      "cell_type": "markdown",
      "source": [
        " Q9) Write a Python script to calculate covariance between two datasets"
      ],
      "metadata": {
        "id": "6ioHkaa4E4X_"
      }
    },
    {
      "cell_type": "code",
      "source": [
        "x= pd.Series([1, 2, 3, 4, 5])\n",
        "y= pd.Series([6, 7, 8, 9, 10])\n",
        "x.cov(y)"
      ],
      "metadata": {
        "colab": {
          "base_uri": "https://localhost:8080/"
        },
        "id": "Ui_M1wKTE-dp",
        "outputId": "d50b01e8-4813-4689-c3ad-90f8cab27c06"
      },
      "execution_count": 13,
      "outputs": [
        {
          "output_type": "execute_result",
          "data": {
            "text/plain": [
              "np.float64(2.5)"
            ]
          },
          "metadata": {},
          "execution_count": 13
        }
      ]
    },
    {
      "cell_type": "markdown",
      "source": [
        "Q10)  Write a Python script to calculate the correlation coefficient between two datasets"
      ],
      "metadata": {
        "id": "8tbGqbP5FUn7"
      }
    },
    {
      "cell_type": "code",
      "source": [
        "x= pd.Series([1, 2, 3, 4, 5])\n",
        "y= pd.Series([6, 7, 8, 9, 10])\n",
        "x.corr(y)"
      ],
      "metadata": {
        "colab": {
          "base_uri": "https://localhost:8080/"
        },
        "id": "KhErFUDzFWeN",
        "outputId": "f453609a-c9df-4a69-818a-0f9cb827d7da"
      },
      "execution_count": 14,
      "outputs": [
        {
          "output_type": "execute_result",
          "data": {
            "text/plain": [
              "np.float64(0.9999999999999999)"
            ]
          },
          "metadata": {},
          "execution_count": 14
        }
      ]
    },
    {
      "cell_type": "markdown",
      "source": [
        "Q11)  Create a scatter plot to visualize the relationship between two variables"
      ],
      "metadata": {
        "id": "4_bYVAeoFe_w"
      }
    },
    {
      "cell_type": "code",
      "source": [
        "import numpy as np\n",
        "import matplotlib.pyplot as plt\n",
        "\n",
        "# Generate random data\n",
        "np.random.seed(0)\n",
        "study_time = np.random.uniform(1, 10, 50)\n",
        "exam_scores = 70 + 2 * study_time + np.random.normal(0, 10, 50)\n",
        "\n",
        "# Create a scatter plot\n",
        "plt.scatter(study_time, exam_scores)\n",
        "plt.title('Relationship between Study Time and Exam Scores')\n",
        "plt.xlabel('Study Time (hours)')\n",
        "plt.ylabel('Exam Scores')\n",
        "plt.show()"
      ],
      "metadata": {
        "colab": {
          "base_uri": "https://localhost:8080/",
          "height": 472
        },
        "id": "a1GnVXu_Fkk8",
        "outputId": "869e7d7b-f5e5-4b43-f476-dca9eae195df"
      },
      "execution_count": 15,
      "outputs": [
        {
          "output_type": "display_data",
          "data": {
            "text/plain": [
              "<Figure size 640x480 with 1 Axes>"
            ],
            "image/png": "[encoded data removed]"
          },
          "metadata": {}
        }
      ]
    },
    {
      "cell_type": "markdown",
      "source": [
        "Q12)  Implement and compare simple random sampling and systematic sampling"
      ],
      "metadata": {
        "id": "hvRoGKprF123"
      }
    },
    {
      "cell_type": "code",
      "source": [
        "import numpy as np\n",
        "import pandas as pd\n",
        "\n",
        "# Create a population dataset\n",
        "np.random.seed(0)\n",
        "population = np.random.randint(1, 100, size=1000)\n",
        "\n",
        "# Simple Random Sampling\n",
        "random_sample = np.random.choice(population, size=100, replace=False)\n",
        "\n",
        "# Systematic Sampling\n",
        "n = 100\n",
        "k = len(population) // n\n",
        "systematic_sample = population[::k][:n]\n",
        "\n",
        "# Compare samples\n",
        "print(\"Simple Random Sampling mean:\", np.mean(random_sample))\n",
        "print(\"Systematic Sampling mean:\", np.mean(systematic_sample))\n",
        "print(\"Population mean:\", np.mean(population))\n"
      ],
      "metadata": {
        "colab": {
          "base_uri": "https://localhost:8080/"
        },
        "id": "Nd81PVmsF7C2",
        "outputId": "82a55f68-d8dd-4be1-a9bf-113d178016a3"
      },
      "execution_count": 16,
      "outputs": [
        {
          "output_type": "stream",
          "name": "stdout",
          "text": [
            "Simple Random Sampling mean: 49.99\n",
            "Systematic Sampling mean: 46.52\n",
            "Population mean: 49.723\n"
          ]
        }
      ]
    },
    {
      "cell_type": "markdown",
      "source": [
        "Q13)  Calculate the mean, median, and mode of grouped data"
      ],
      "metadata": {
        "id": "s-OKaX2dGLoo"
      }
    },
    {
      "cell_type": "code",
      "source": [
        "import numpy as np\n",
        "import pandas as pd\n",
        "\n",
        "# Create a grouped dataset\n",
        "data = {\n",
        "    'Class': ['0-10', '10-20', '20-30', '30-40', '40-50'],\n",
        "    'Frequency': [5, 10, 15, 8, 2]\n",
        "}\n",
        "df = pd.DataFrame(data)\n",
        "\n",
        "# Calculate midpoints\n",
        "midpoints = [(0+10)/2, (10+20)/2, (20+30)/2, (30+40)/2, (40+50)/2]\n",
        "\n",
        "# Calculate mean\n",
        "mean = np.sum(midpoints * df['Frequency']) / np.sum(df['Frequency'])\n",
        "print(\"Mean:\", mean)\n",
        "\n",
        "# Calculate median\n",
        "cf = df['Frequency'].cumsum()\n",
        "median_class = df.iloc[np.where(cf >= np.sum(df['Frequency'])/2)[0][0]]\n",
        "median = (median_class['Class'].split('-')[0])\n",
        "median = float(median) + ((np.sum(df['Frequency'])/2 - cf.iloc[np.where(cf >= np.sum(df['Frequency'])/2)[0][0]-1]) / median_class['Frequency']) * 10\n",
        "print(\"Median:\", median)\n",
        "\n",
        "# Calculate mode\n",
        "mode_class = df.loc[df['Frequency'].idxmax()]\n",
        "mode = (mode_class['Class'].split('-')[0])\n",
        "mode = float(mode) + ((mode_class['Frequency'] - df.iloc[df.index.get_loc(df['Frequency'].idxmax())-1]['Frequency']) / (2*mode_class['Frequency'] - df.iloc[df.index.get_loc(df['Frequency'].idxmax())-1]['Frequency'] - df.iloc[df.index.get_loc(df['Frequency'].idxmax())+1]['Frequency'])) * 10\n",
        "print(\"Mode:\", mode)"
      ],
      "metadata": {
        "colab": {
          "base_uri": "https://localhost:8080/"
        },
        "id": "FfPvLQmSGT-g",
        "outputId": "590affb4-a028-445b-9f78-f830d8caad27"
      },
      "execution_count": 17,
      "outputs": [
        {
          "output_type": "stream",
          "name": "stdout",
          "text": [
            "Mean: 23.0\n",
            "Median: 23.333333333333332\n",
            "Mode: 24.166666666666668\n"
          ]
        }
      ]
    },
    {
      "cell_type": "markdown",
      "source": [
        "Q14)  Simulate data using Python and calculate its central tendency and dispersion."
      ],
      "metadata": {
        "id": "AdGamE72Gqj0"
      }
    },
    {
      "cell_type": "code",
      "source": [
        "import numpy as np\n",
        "\n",
        "# Simulate a dataset\n",
        "np.random.seed(0)\n",
        "data = np.random.normal(loc=5, scale=2, size=1000)\n",
        "\n",
        "# Calculate central tendency\n",
        "mean = np.mean(data)\n",
        "median = np.median(data)\n",
        "\n",
        "# Calculate dispersion\n",
        "std_dev = np.std(data)\n",
        "variance = np.var(data)\n",
        "range_ = np.max(data) - np.min(data)\n",
        "interquartile_range = np.percentile(data, 75) - np.percentile(data, 25)\n",
        "\n",
        "# Print results\n",
        "print(\"Central Tendency:\")\n",
        "print(f\"Mean: {mean}\")\n",
        "print(f\"Median: {median}\")\n",
        "\n",
        "print(\"\\nDispersion:\")\n",
        "print(f\"Standard Deviation: {std_dev}\")\n",
        "print(f\"Variance: {variance}\")\n",
        "print(f\"Range: {range_}\")\n",
        "print(f\"Interquartile Range (IQR): {interquartile_range}\")"
      ],
      "metadata": {
        "colab": {
          "base_uri": "https://localhost:8080/"
        },
        "id": "QVPehMXVHaQa",
        "outputId": "060aa912-7ac8-4dc5-d903-11a4fe7cff43"
      },
      "execution_count": 18,
      "outputs": [
        {
          "output_type": "stream",
          "name": "stdout",
          "text": [
            "Central Tendency:\n",
            "Mean: 4.909486585019609\n",
            "Median: 4.883943930400744\n",
            "\n",
            "Dispersion:\n",
            "Standard Deviation: 1.9740663173380517\n",
            "Variance: 3.8969378252486173\n",
            "Range: 11.61099633764302\n",
            "Interquartile Range (IQR): 2.6107413224965375\n"
          ]
        }
      ]
    },
    {
      "cell_type": "markdown",
      "source": [
        "Q15) Use NumPy or pandas to summarize a dataset’s descriptive statistics"
      ],
      "metadata": {
        "id": "crdCb-EAIACL"
      }
    },
    {
      "cell_type": "code",
      "source": [
        "import pandas as pd\n",
        "import numpy as np\n",
        "\n",
        "# Create a dataset\n",
        "np.random.seed(0)\n",
        "data = {\n",
        "    'A': np.random.normal(0, 1, 100),\n",
        "    'B': np.random.uniform(0, 1, 100),\n",
        "    'C': np.random.exponential(1, 100)\n",
        "}\n",
        "df = pd.DataFrame(data)\n",
        "\n",
        "# Calculate descriptive statistics\n",
        "stats = df.describe()\n",
        "\n",
        "# Print results\n",
        "print(stats)"
      ],
      "metadata": {
        "colab": {
          "base_uri": "https://localhost:8080/"
        },
        "id": "O7lqDJO-II3E",
        "outputId": "ffc41189-dbc7-4709-9ee8-bec14ca5d778"
      },
      "execution_count": 19,
      "outputs": [
        {
          "output_type": "stream",
          "name": "stdout",
          "text": [
            "                A           B           C\n",
            "count  100.000000  100.000000  100.000000\n",
            "mean     0.059808    0.494664    0.996389\n",
            "std      1.012960    0.285060    1.019243\n",
            "min     -2.552990    0.011714    0.011493\n",
            "25%     -0.643857    0.250241    0.238074\n",
            "50%      0.094096    0.528335    0.636813\n",
            "75%      0.737077    0.716195    1.455217\n",
            "max      2.269755    0.998847    4.007950\n"
          ]
        }
      ]
    },
    {
      "cell_type": "markdown",
      "source": [
        "Q16)  Plot a boxplot to understand the spread and identify outliers"
      ],
      "metadata": {
        "id": "vdJ9FHFrIbyk"
      }
    },
    {
      "cell_type": "code",
      "source": [
        "import seaborn as sns\n",
        "sns.boxplot(data=df)\n"
      ],
      "metadata": {
        "colab": {
          "base_uri": "https://localhost:8080/",
          "height": 448
        },
        "id": "vnD1eApEIg8K",
        "outputId": "389e3a0a-e1b0-4ef6-cbe0-098af14ff0e0"
      },
      "execution_count": 20,
      "outputs": [
        {
          "output_type": "execute_result",
          "data": {
            "text/plain": [
              "<Axes: >"
            ]
          },
          "metadata": {},
          "execution_count": 20
        },
        {
          "output_type": "display_data",
          "data": {
            "text/plain": [
              "<Figure size 640x480 with 1 Axes>"
            ],
            "image/png": "[encoded data removed]"
          },
          "metadata": {}
        }
      ]
    },
    {
      "cell_type": "markdown",
      "source": [
        "Q17)  Calculate the interquartile range (IQR) of a dataset"
      ],
      "metadata": {
        "id": "eolJDBgjIznQ"
      }
    },
    {
      "cell_type": "code",
      "source": [
        "data = [1 , 2 , 3 , 4 , 5 , 6]\n",
        "import numpy as np\n",
        "np.percentile(data, 75) - np.percentile(data, 25)"
      ],
      "metadata": {
        "colab": {
          "base_uri": "https://localhost:8080/"
        },
        "id": "yqrxpjoyI4P4",
        "outputId": "6ada9cc2-5d67-4ff5-f9ad-0999d4afa857"
      },
      "execution_count": 21,
      "outputs": [
        {
          "output_type": "execute_result",
          "data": {
            "text/plain": [
              "np.float64(2.5)"
            ]
          },
          "metadata": {},
          "execution_count": 21
        }
      ]
    },
    {
      "cell_type": "markdown",
      "source": [
        "Q18)  Implement Z-score normalization and explain its significance"
      ],
      "metadata": {
        "id": "TvljSrsiJVx1"
      }
    },
    {
      "cell_type": "code",
      "source": [
        "import numpy as np\n",
        "# Create a dataset\n",
        "np.random.seed(0)\n",
        "data = np.random.normal(5, 2, 100)\n",
        "\n",
        "# Calculate mean and standard deviation\n",
        "mean = np.mean(data)\n",
        "std_dev = np.std(data)\n",
        "\n",
        "# Apply Z-score normalization\n",
        "normalized_data = (data - mean) / std_dev\n",
        "\n",
        "# Print results\n",
        "print(\"Original Data Mean:\", np.mean(data))\n",
        "print(\"Original Data Standard Deviation:\", np.std(data))\n",
        "print(\"Normalized Data Mean:\", np.mean(normalized_data))\n",
        "print(\"Normalized Data Standard Deviation:\", np.std(normalized_data))"
      ],
      "metadata": {
        "colab": {
          "base_uri": "https://localhost:8080/"
        },
        "id": "NmoQgCobJZ_p",
        "outputId": "c6ebade4-686c-4c60-cc87-942dfd975622"
      },
      "execution_count": 22,
      "outputs": [
        {
          "output_type": "stream",
          "name": "stdout",
          "text": [
            "Original Data Mean: 5.11961603106897\n",
            "Original Data Standard Deviation: 2.0157644894331592\n",
            "Normalized Data Mean: -1.6542323066914832e-16\n",
            "Normalized Data Standard Deviation: 1.0\n"
          ]
        }
      ]
    },
    {
      "cell_type": "markdown",
      "source": [
        "Q19)  Compare two datasets using their standard deviations"
      ],
      "metadata": {
        "id": "6P9gIvARJo_-"
      }
    },
    {
      "cell_type": "code",
      "source": [
        "import numpy as np\n",
        "import matplotlib.pyplot as plt\n",
        "\n",
        "# Create two datasets\n",
        "np.random.seed(0)\n",
        "dataset1 = np.random.normal(0, 1, 1000)\n",
        "dataset2 = np.random.normal(0, 5, 1000)\n",
        "\n",
        "# Calculate standard deviations\n",
        "std_dev1 = np.std(dataset1)\n",
        "std_dev2 = np.std(dataset2)\n",
        "\n",
        "# Print results\n",
        "print(\"Dataset 1 Standard Deviation:\", std_dev1)\n",
        "print(\"Dataset 2 Standard Deviation:\", std_dev2)\n",
        "\n",
        "# Plot histograms\n",
        "plt.hist(dataset1, bins=30, alpha=0.5, label='Dataset 1')\n",
        "plt.hist(dataset2, bins=30, alpha=0.5, label='Dataset 2')\n",
        "plt.legend()\n",
        "plt.show()"
      ],
      "metadata": {
        "id": "hMOXd-7XJtjK"
      },
      "execution_count": null,
      "outputs": []
    },
    {
      "cell_type": "markdown",
      "source": [
        "Q20)  Write a Python program to visualize covariance using a heatmap"
      ],
      "metadata": {
        "id": "RniPP2CDJ3zm"
      }
    },
    {
      "cell_type": "code",
      "source": [
        "import numpy as np\n",
        "import pandas as pd\n",
        "import matplotlib.pyplot as plt\n",
        "import seaborn as sns\n",
        "\n",
        "# Create a dataset\n",
        "np.random.seed(0)\n",
        "data = {\n",
        "    'A': np.random.normal(0, 1, 100),\n",
        "    'B': np.random.normal(1, 2, 100),\n",
        "    'C': np.random.normal(2, 3, 100),\n",
        "    'D': np.random.normal(3, 4, 100)\n",
        "}\n",
        "df = pd.DataFrame(data)\n",
        "\n",
        "# Calculate covariance matrix\n",
        "cov_matrix = df.cov()\n",
        "\n",
        "# Create a heatmap\n",
        "plt.figure(figsize=(8, 6))\n",
        "sns.heatmap(cov_matrix, annot=True, cmap='coolwarm', square=True)\n",
        "plt.title('Covariance Matrix Heatmap')\n",
        "plt.show()"
      ],
      "metadata": {
        "colab": {
          "base_uri": "https://localhost:8080/",
          "height": 545
        },
        "id": "K5BEWfzzJ-LZ",
        "outputId": "15547205-7dd7-45bf-c0ac-bf2b677cc2c9"
      },
      "execution_count": 23,
      "outputs": [
        {
          "output_type": "display_data",
          "data": {
            "text/plain": [
              "<Figure size 800x600 with 2 Axes>"
            ],
            "image/png": "[encoded data removed]"
          },
          "metadata": {}
        }
      ]
    },
    {
      "cell_type": "code",
      "source": [
        "corr = df.corr(numeric_only=True)\n",
        "sns.heatmap(corr, annot=True)\n"
      ],
      "metadata": {
        "colab": {
          "base_uri": "https://localhost:8080/",
          "height": 453
        },
        "id": "OB_gF8uxKTxs",
        "outputId": "99c950dc-efc8-4b16-d13a-f36b660b004a"
      },
      "execution_count": 25,
      "outputs": [
        {
          "output_type": "execute_result",
          "data": {
            "text/plain": [
              "<Axes: >"
            ]
          },
          "metadata": {},
          "execution_count": 25
        },
        {
          "output_type": "display_data",
          "data": {
            "text/plain": [
              "<Figure size 640x480 with 2 Axes>"
            ],
            "image/png": "[encoded data removed]"
          },
          "metadata": {}
        }
      ]
    },
    {
      "cell_type": "markdown",
      "source": [
        " Q21) Use seaborn to create a correlation matrix for a dataset"
      ],
      "metadata": {
        "id": "gN0rny3lKz5e"
      }
    },
    {
      "cell_type": "code",
      "source": [
        "df.corr(numeric_only=True)"
      ],
      "metadata": {
        "colab": {
          "base_uri": "https://localhost:8080/",
          "height": 175
        },
        "id": "ImcBd1hoK5JB",
        "outputId": "02066c3e-651c-4453-db83-383074853d10"
      },
      "execution_count": 26,
      "outputs": [
        {
          "output_type": "execute_result",
          "data": {
            "text/plain": [
              "          A         B         C         D\n",
              "A  1.000000  0.111729  0.076116 -0.059888\n",
              "B  0.111729  1.000000  0.056035  0.077157\n",
              "C  0.076116  0.056035  1.000000  0.126589\n",
              "D -0.059888  0.077157  0.126589  1.000000"
            ],
            "text/html": [
              "\n",
              "  <div id=\"df-8486cfed-416a-433e-8959-24283ad838dd\" class=\"colab-df-container\">\n",
              "    <div>\n",
              "<style scoped>\n",
              "    .dataframe tbody tr th:only-of-type {\n",
              "        vertical-align: middle;\n",
              "    }\n",
              "\n",
              "    .dataframe tbody tr th {\n",
              "        vertical-align: top;\n",
              "    }\n",
              "\n",
              "    .dataframe thead th {\n",
              "        text-align: right;\n",
              "    }\n",
              "</style>\n",
              "<table border=\"1\" class=\"dataframe\">\n",
              "  <thead>\n",
              "    <tr style=\"text-align: right;\">\n",
              "      <th></th>\n",
              "      <th>A</th>\n",
              "      <th>B</th>\n",
              "      <th>C</th>\n",
              "      <th>D</th>\n",
              "    </tr>\n",
              "  </thead>\n",
              "  <tbody>\n",
              "    <tr>\n",
              "      <th>A</th>\n",
              "      <td>1.000000</td>\n",
              "      <td>0.111729</td>\n",
              "      <td>0.076116</td>\n",
              "      <td>-0.059888</td>\n",
              "    </tr>\n",
              "    <tr>\n",
              "      <th>B</th>\n",
              "      <td>0.111729</td>\n",
              "      <td>1.000000</td>\n",
              "      <td>0.056035</td>\n",
              "      <td>0.077157</td>\n",
              "    </tr>\n",
              "    <tr>\n",
              "      <th>C</th>\n",
              "      <td>0.076116</td>\n",
              "      <td>0.056035</td>\n",
              "      <td>1.000000</td>\n",
              "      <td>0.126589</td>\n",
              "    </tr>\n",
              "    <tr>\n",
              "      <th>D</th>\n",
              "      <td>-0.059888</td>\n",
              "      <td>0.077157</td>\n",
              "      <td>0.126589</td>\n",
              "      <td>1.000000</td>\n",
              "    </tr>\n",
              "  </tbody>\n",
              "</table>\n",
              "</div>\n",
              "    <div class=\"colab-df-buttons\">\n",
              "\n",
              "  <div class=\"colab-df-container\">\n",
              "    <button class=\"colab-df-convert\" onclick=\"convertToInteractive('df-8486cfed-416a-433e-8959-24283ad838dd')\"\n",
              "            title=\"Convert this dataframe to an interactive table.\"\n",
              "            style=\"display:none;\">\n",
              "\n",
              "  <svg xmlns=\"http://www.w3.org/2000/svg\" height=\"24px\" viewBox=\"0 -960 960 960\">\n",
              "    <path d=\"M120-120v-720h720v720H120Zm60-500h600v-160H180v160Zm220 220h160v-160H400v160Zm0 220h160v-160H400v160ZM180-400h160v-160H180v160Zm440 0h160v-160H620v160ZM180-180h160v-160H180v160Zm440 0h160v-160H620v160Z\"/>\n",
              "  </svg>\n",
              "    </button>\n",
              "\n",
              "  <style>\n",
              "    .colab-df-container {\n",
              "      display:flex;\n",
              "      gap: 12px;\n",
              "    }\n",
              "\n",
              "    .colab-df-convert {\n",
              "      background-color: #E8F0FE;\n",
              "      border: none;\n",
              "      border-radius: 50%;\n",
              "      cursor: pointer;\n",
              "      display: none;\n",
              "      fill: #1967D2;\n",
              "      height: 32px;\n",
              "      padding: 0 0 0 0;\n",
              "      width: 32px;\n",
              "    }\n",
              "\n",
              "    .colab-df-convert:hover {\n",
              "      background-color: #E2EBFA;\n",
              "      box-shadow: 0px 1px 2px rgba(60, 64, 67, 0.3), 0px 1px 3px 1px rgba(60, 64, 67, 0.15);\n",
              "      fill: #174EA6;\n",
              "    }\n",
              "\n",
              "    .colab-df-buttons div {\n",
              "      margin-bottom: 4px;\n",
              "    }\n",
              "\n",
              "    [theme=dark] .colab-df-convert {\n",
              "      background-color: #3B4455;\n",
              "      fill: #D2E3FC;\n",
              "    }\n",
              "\n",
              "    [theme=dark] .colab-df-convert:hover {\n",
              "      background-color: #434B5C;\n",
              "      box-shadow: 0px 1px 3px 1px rgba(0, 0, 0, 0.15);\n",
              "      filter: drop-shadow(0px 1px 2px rgba(0, 0, 0, 0.3));\n",
              "      fill: #FFFFFF;\n",
              "    }\n",
              "  </style>\n",
              "\n",
              "    <script>\n",
              "      const buttonEl =\n",
              "        document.querySelector('#df-8486cfed-416a-433e-8959-24283ad838dd button.colab-df-convert');\n",
              "      buttonEl.style.display =\n",
              "        google.colab.kernel.accessAllowed ? 'block' : 'none';\n",
              "\n",
              "      async function convertToInteractive(key) {\n",
              "        const element = document.querySelector('#df-8486cfed-416a-433e-8959-24283ad838dd');\n",
              "        const dataTable =\n",
              "          await google.colab.kernel.invokeFunction('convertToInteractive',\n",
              "                                                    [key], {});\n",
              "        if (!dataTable) return;\n",
              "\n",
              "        const docLinkHtml = 'Like what you see? Visit the ' +\n",
              "          '<a target=\"_blank\" href=https://colab.research.google.com/notebooks/data_table.ipynb>data table notebook</a>'\n",
              "          + ' to learn more about interactive tables.';\n",
              "        element.innerHTML = '';\n",
              "        dataTable['output_type'] = 'display_data';\n",
              "        await google.colab.output.renderOutput(dataTable, element);\n",
              "        const docLink = document.createElement('div');\n",
              "        docLink.innerHTML = docLinkHtml;\n",
              "        element.appendChild(docLink);\n",
              "      }\n",
              "    </script>\n",
              "  </div>\n",
              "\n",
              "\n",
              "    <div id=\"df-9f098db9-b5d1-465c-bd23-5a07c3f677b3\">\n",
              "      <button class=\"colab-df-quickchart\" onclick=\"quickchart('df-9f098db9-b5d1-465c-bd23-5a07c3f677b3')\"\n",
              "                title=\"Suggest charts\"\n",
              "                style=\"display:none;\">\n",
              "\n",
              "<svg xmlns=\"http://www.w3.org/2000/svg\" height=\"24px\"viewBox=\"0 0 24 24\"\n",
              "     width=\"24px\">\n",
              "    <g>\n",
              "        <path d=\"M19 3H5c-1.1 0-2 .9-2 2v14c0 1.1.9 2 2 2h14c1.1 0 2-.9 2-2V5c0-1.1-.9-2-2-2zM9 17H7v-7h2v7zm4 0h-2V7h2v10zm4 0h-2v-4h2v4z\"/>\n",
              "    </g>\n",
              "</svg>\n",
              "      </button>\n",
              "\n",
              "<style>\n",
              "  .colab-df-quickchart {\n",
              "      --bg-color: #E8F0FE;\n",
              "      --fill-color: #1967D2;\n",
              "      --hover-bg-color: #E2EBFA;\n",
              "      --hover-fill-color: #174EA6;\n",
              "      --disabled-fill-color: #AAA;\n",
              "      --disabled-bg-color: #DDD;\n",
              "  }\n",
              "\n",
              "  [theme=dark] .colab-df-quickchart {\n",
              "      --bg-color: #3B4455;\n",
              "      --fill-color: #D2E3FC;\n",
              "      --hover-bg-color: #434B5C;\n",
              "      --hover-fill-color: #FFFFFF;\n",
              "      --disabled-bg-color: #3B4455;\n",
              "      --disabled-fill-color: #666;\n",
              "  }\n",
              "\n",
              "  .colab-df-quickchart {\n",
              "    background-color: var(--bg-color);\n",
              "    border: none;\n",
              "    border-radius: 50%;\n",
              "    cursor: pointer;\n",
              "    display: none;\n",
              "    fill: var(--fill-color);\n",
              "    height: 32px;\n",
              "    padding: 0;\n",
              "    width: 32px;\n",
              "  }\n",
              "\n",
              "  .colab-df-quickchart:hover {\n",
              "    background-color: var(--hover-bg-color);\n",
              "    box-shadow: 0 1px 2px rgba(60, 64, 67, 0.3), 0 1px 3px 1px rgba(60, 64, 67, 0.15);\n",
              "    fill: var(--button-hover-fill-color);\n",
              "  }\n",
              "\n",
              "  .colab-df-quickchart-complete:disabled,\n",
              "  .colab-df-quickchart-complete:disabled:hover {\n",
              "    background-color: var(--disabled-bg-color);\n",
              "    fill: var(--disabled-fill-color);\n",
              "    box-shadow: none;\n",
              "  }\n",
              "\n",
              "  .colab-df-spinner {\n",
              "    border: 2px solid var(--fill-color);\n",
              "    border-color: transparent;\n",
              "    border-bottom-color: var(--fill-color);\n",
              "    animation:\n",
              "      spin 1s steps(1) infinite;\n",
              "  }\n",
              "\n",
              "  @keyframes spin {\n",
              "    0% {\n",
              "      border-color: transparent;\n",
              "      border-bottom-color: var(--fill-color);\n",
              "      border-left-color: var(--fill-color);\n",
              "    }\n",
              "    20% {\n",
              "      border-color: transparent;\n",
              "      border-left-color: var(--fill-color);\n",
              "      border-top-color: var(--fill-color);\n",
              "    }\n",
              "    30% {\n",
              "      border-color: transparent;\n",
              "      border-left-color: var(--fill-color);\n",
              "      border-top-color: var(--fill-color);\n",
              "      border-right-color: var(--fill-color);\n",
              "    }\n",
              "    40% {\n",
              "      border-color: transparent;\n",
              "      border-right-color: var(--fill-color);\n",
              "      border-top-color: var(--fill-color);\n",
              "    }\n",
              "    60% {\n",
              "      border-color: transparent;\n",
              "      border-right-color: var(--fill-color);\n",
              "    }\n",
              "    80% {\n",
              "      border-color: transparent;\n",
              "      border-right-color: var(--fill-color);\n",
              "      border-bottom-color: var(--fill-color);\n",
              "    }\n",
              "    90% {\n",
              "      border-color: transparent;\n",
              "      border-bottom-color: var(--fill-color);\n",
              "    }\n",
              "  }\n",
              "</style>\n",
              "\n",
              "      <script>\n",
              "        async function quickchart(key) {\n",
              "          const quickchartButtonEl =\n",
              "            document.querySelector('#' + key + ' button');\n",
              "          quickchartButtonEl.disabled = true;  // To prevent multiple clicks.\n",
              "          quickchartButtonEl.classList.add('colab-df-spinner');\n",
              "          try {\n",
              "            const charts = await google.colab.kernel.invokeFunction(\n",
              "                'suggestCharts', [key], {});\n",
              "          } catch (error) {\n",
              "            console.error('Error during call to suggestCharts:', error);\n",
              "          }\n",
              "          quickchartButtonEl.classList.remove('colab-df-spinner');\n",
              "          quickchartButtonEl.classList.add('colab-df-quickchart-complete');\n",
              "        }\n",
              "        (() => {\n",
              "          let quickchartButtonEl =\n",
              "            document.querySelector('#df-9f098db9-b5d1-465c-bd23-5a07c3f677b3 button');\n",
              "          quickchartButtonEl.style.display =\n",
              "            google.colab.kernel.accessAllowed ? 'block' : 'none';\n",
              "        })();\n",
              "      </script>\n",
              "    </div>\n",
              "\n",
              "    </div>\n",
              "  </div>\n"
            ],
            "application/vnd.google.colaboratory.intrinsic+json": {
              "type": "dataframe",
              "summary": "{\n  \"name\": \"df\",\n  \"rows\": 4,\n  \"fields\": [\n    {\n      \"column\": \"A\",\n      \"properties\": {\n        \"dtype\": \"number\",\n        \"std\": 0.4843523906928888,\n        \"min\": -0.059887888815874944,\n        \"max\": 1.0,\n        \"num_unique_values\": 4,\n        \"samples\": [\n          0.1117291988189485,\n          -0.059887888815874944,\n          1.0\n        ],\n        \"semantic_type\": \"\",\n        \"description\": \"\"\n      }\n    },\n    {\n      \"column\": \"B\",\n      \"properties\": {\n        \"dtype\": \"number\",\n        \"std\": 0.45975342173776057,\n        \"min\": 0.05603481093707474,\n        \"max\": 1.0,\n        \"num_unique_values\": 4,\n        \"samples\": [\n          1.0,\n          0.07715659419300767,\n          0.1117291988189485\n        ],\n        \"semantic_type\": \"\",\n        \"description\": \"\"\n      }\n    },\n    {\n      \"column\": \"C\",\n      \"properties\": {\n        \"dtype\": \"number\",\n        \"std\": 0.45783975018691886,\n        \"min\": 0.05603481093707474,\n        \"max\": 1.0,\n        \"num_unique_values\": 4,\n        \"samples\": [\n          0.05603481093707474,\n          0.12658941191647807,\n          0.07611595177727817\n        ],\n        \"semantic_type\": \"\",\n        \"description\": \"\"\n      }\n    },\n    {\n      \"column\": \"D\",\n      \"properties\": {\n        \"dtype\": \"number\",\n        \"std\": 0.4825148461754055,\n        \"min\": -0.059887888815874944,\n        \"max\": 1.0,\n        \"num_unique_values\": 4,\n        \"samples\": [\n          0.07715659419300767,\n          1.0,\n          -0.059887888815874944\n        ],\n        \"semantic_type\": \"\",\n        \"description\": \"\"\n      }\n    }\n  ]\n}"
            }
          },
          "metadata": {},
          "execution_count": 26
        }
      ]
    },
    {
      "cell_type": "markdown",
      "source": [
        "Q22)  Generate a dataset and implement both variance and standard deviation computations"
      ],
      "metadata": {
        "id": "UtJkFMO1LN2p"
      }
    },
    {
      "cell_type": "code",
      "source": [
        "import numpy as np\n",
        "\n",
        "# Generate a dataset\n",
        "np.random.seed(0)\n",
        "data = np.random.normal(5, 2, 100)\n",
        "\n",
        "# Compute variance\n",
        "variance = np.var(data)\n",
        "\n",
        "# Compute standard deviation\n",
        "std_dev = np.std(data)\n",
        "\n",
        "# Print results\n",
        "print(\"Variance:\", variance)\n",
        "print(\"Standard Deviation:\", std_dev)\n",
        "\n",
        "# Manual computation\n",
        "mean = np.mean(data)\n",
        "variance_manual = np.mean((data - mean) ** 2)\n",
        "std_dev_manual = np.sqrt(variance_manual)\n",
        "\n",
        "# Print manual results\n",
        "print(\"Manual Variance:\", variance_manual)\n",
        "print(\"Manual Standard Deviation:\", std_dev_manual)"
      ],
      "metadata": {
        "colab": {
          "base_uri": "https://localhost:8080/"
        },
        "id": "DLy4xbmPLXf9",
        "outputId": "8ed22374-954a-46d6-ed70-eda734183d1d"
      },
      "execution_count": 27,
      "outputs": [
        {
          "output_type": "stream",
          "name": "stdout",
          "text": [
            "Variance: 4.063306476859725\n",
            "Standard Deviation: 2.0157644894331592\n",
            "Manual Variance: 4.063306476859725\n",
            "Manual Standard Deviation: 2.0157644894331592\n"
          ]
        }
      ]
    },
    {
      "cell_type": "markdown",
      "source": [
        "Q23) Visualize skewness and kurtosis using Python libraries like matplotlib or seaborn"
      ],
      "metadata": {
        "id": "iazNPYCELrpx"
      }
    },
    {
      "cell_type": "code",
      "source": [
        "import numpy as np\n",
        "import matplotlib.pyplot as plt\n",
        "from scipy import stats\n",
        "\n",
        "# Generate skewed data\n",
        "np.random.seed(0)\n",
        "skewed_data = np.random.exponential(scale=1, size=1000)\n",
        "\n",
        "# Generate normal data\n",
        "normal_data = np.random.normal(loc=0, scale=1, size=1000)\n",
        "\n",
        "# Calculate skewness and kurtosis\n",
        "skewness_skewed = stats.skew(skewed_data)\n",
        "kurtosis_skewed = stats.kurtosis(skewed_data)\n",
        "skewness_normal = stats.skew(normal_data)\n",
        "kurtosis_normal = stats.kurtosis(normal_data)\n",
        "\n",
        "# Print results\n",
        "print(\"Skewed Data Skewness:\", skewness_skewed)\n",
        "print(\"Skewed Data Kurtosis:\", kurtosis_skewed)\n",
        "print(\"Normal Data Skewness:\", skewness_normal)\n",
        "print(\"Normal Data Kurtosis:\", kurtosis_normal)\n",
        "\n",
        "# Plot histograms\n",
        "fig, ax = plt.subplots(1, 2, figsize=(12, 6))\n",
        "ax[0].hist(skewed_data, bins=30, alpha=0.5, label='Skewed Data')\n",
        "ax[0].set_title('Skewed Data')\n",
        "ax[1].hist(normal_data, bins=30, alpha=0.5, label='Normal Data')\n",
        "ax[1].set_title('Normal Data')\n",
        "plt.show()"
      ],
      "metadata": {
        "colab": {
          "base_uri": "https://localhost:8080/",
          "height": 618
        },
        "id": "ajLcUeXbLwyJ",
        "outputId": "9e165601-2b3a-4bfa-b906-af0fc4e871f3"
      },
      "execution_count": 28,
      "outputs": [
        {
          "output_type": "stream",
          "name": "stdout",
          "text": [
            "Skewed Data Skewness: 2.0526452829685935\n",
            "Skewed Data Kurtosis: 6.476140290441888\n",
            "Normal Data Skewness: 0.09702422061936332\n",
            "Normal Data Kurtosis: -0.04257128265638288\n"
          ]
        },
        {
          "output_type": "display_data",
          "data": {
            "text/plain": [
              "<Figure size 1200x600 with 2 Axes>"
            ],
            "image/png": "[encoded data removed]"
          },
          "metadata": {}
        }
      ]
    },
    {
      "cell_type": "markdown",
      "source": [
        "Q24)  Implement the Pearson and Spearman correlation coefficients for a dataset."
      ],
      "metadata": {
        "id": "TOW3awWUL_Sr"
      }
    },
    {
      "cell_type": "code",
      "source": [
        "import numpy as np\n",
        "from scipy import stats\n",
        "import pandas as pd\n",
        "\n",
        "# Generate a dataset\n",
        "np.random.seed(0)\n",
        "data = {\n",
        "    'X': np.random.normal(0, 1, 100),\n",
        "    'Y': np.random.normal(1, 2, 100)\n",
        "}\n",
        "df = pd.DataFrame(data)\n",
        "\n",
        "# Introduce a relationship between X and Y\n",
        "df['Y'] = 2 * df['X'] + np.random.normal(0, 1, 100)\n",
        "\n",
        "# Calculate Pearson correlation coefficient\n",
        "pearson_corr = df['X'].corr(df['Y'])\n",
        "\n",
        "# Calculate Spearman correlation coefficient\n",
        "spearman_corr = df['X'].corr(df['Y'], method='spearman')\n",
        "\n",
        "# Print results\n",
        "print(\"Pearson Correlation Coefficient:\", pearson_corr)\n",
        "print(\"Spearman Correlation Coefficient:\", spearman_corr)\n",
        "\n",
        "# Using scipy.stats\n",
        "pearson_corr_scipy = stats.pearsonr(df['X'], df['Y'])[0]\n",
        "spearman_corr_scipy = stats.spearmanr(df['X'], df['Y'])[0]\n",
        "\n",
        "# Print scipy results\n",
        "print(\"Pearson Correlation Coefficient (scipy):\", pearson_corr_scipy)\n",
        "print(\"Spearman Correlation Coefficient (scipy):\", spearman_corr_scipy)"
      ],
      "metadata": {
        "colab": {
          "base_uri": "https://localhost:8080/"
        },
        "id": "6YeoxN-eMD9V",
        "outputId": "0abc38fa-0008-4191-8326-777055ff5a0d"
      },
      "execution_count": 29,
      "outputs": [
        {
          "output_type": "stream",
          "name": "stdout",
          "text": [
            "Pearson Correlation Coefficient: 0.910358806471134\n",
            "Spearman Correlation Coefficient: 0.9112511251125112\n",
            "Pearson Correlation Coefficient (scipy): 0.9103588064711341\n",
            "Spearman Correlation Coefficient (scipy): 0.9112511251125112\n"
          ]
        }
      ]
    }
  ]
}